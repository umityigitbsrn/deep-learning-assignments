{
 "cells": [
  {
   "cell_type": "code",
   "execution_count": 1,
   "outputs": [],
   "source": [
    "import matplotlib.pyplot as plt\n",
    "\n",
    "import torch\n",
    "import torch.nn as nn\n",
    "from torchvision.datasets import MNIST\n",
    "from torch.utils.data import DataLoader, Subset\n",
    "from torchvision.transforms import ToTensor, Compose, Normalize\n",
    "from torch.optim import Adam"
   ],
   "metadata": {
    "collapsed": false,
    "ExecuteTime": {
     "end_time": "2023-06-04T09:09:55.997778277Z",
     "start_time": "2023-06-04T09:09:54.956602539Z"
    }
   }
  },
  {
   "cell_type": "markdown",
   "source": [
    "# Task 1 - Main Functions"
   ],
   "metadata": {
    "collapsed": false
   }
  },
  {
   "cell_type": "markdown",
   "source": [
    "## Dataset operations"
   ],
   "metadata": {
    "collapsed": false
   }
  },
  {
   "cell_type": "code",
   "execution_count": 29,
   "outputs": [],
   "source": [
    "def get_loaders(batch_size):\n",
    "    # transformers\n",
    "    transform = Compose([\n",
    "        ToTensor(),\n",
    "        Normalize((0.1307,), (0.3081,))\n",
    "    ])\n",
    "\n",
    "    # MNIST dataset train/test\n",
    "    train_dataset = MNIST('./data', train=True, download=True, transform=transform)\n",
    "    test_dataset = MNIST('./data', train=False, download=True, transform=transform)\n",
    "\n",
    "    # sampling 1000 data from each class for simplicity\n",
    "    train_labels = train_dataset.targets\n",
    "    counter_dict = torch.zeros(10)\n",
    "    sampled_indices = []\n",
    "    for idx, label in enumerate(train_labels):\n",
    "        if counter_dict[label] < 1000:\n",
    "            sampled_indices.append(idx)\n",
    "            counter_dict[label] = counter_dict[label] + 1\n",
    "        if torch.sum(counter_dict).item() == 10000:\n",
    "            break\n",
    "\n",
    "    train_subset = Subset(train_dataset, torch.tensor(sampled_indices))\n",
    "\n",
    "    # loaders\n",
    "    train_loader = DataLoader(train_subset, batch_size=batch_size, shuffle=True)\n",
    "    test_loader = DataLoader(test_dataset, batch_size=batch_size, shuffle=True)\n",
    "\n",
    "    return train_loader, test_loader"
   ],
   "metadata": {
    "collapsed": false,
    "ExecuteTime": {
     "end_time": "2023-06-04T09:15:35.655819775Z",
     "start_time": "2023-06-04T09:15:35.654470441Z"
    }
   }
  },
  {
   "cell_type": "markdown",
   "source": [
    "## Create model class"
   ],
   "metadata": {
    "collapsed": false
   }
  },
  {
   "cell_type": "code",
   "execution_count": null,
   "outputs": [],
   "source": [
    "class CustomModel(nn.Module):\n",
    "    def __init__(self, param_size_param, dropout_param, input_dimension=784, num_class=10):\n",
    "        super().__init__()\n",
    "        self._param_size_param = param_size_param\n",
    "        self._dropout_param = dropout_param\n",
    "        self._input_dimension = input_dimension\n",
    "        self._num_class = num_class\n",
    "\n",
    "        self.__hidden_layer = nn.Linear(self._input_dimension, self._param_size_param)\n",
    "        self.__out_layer = nn.Linear(self._param_size_param, self._num_class)\n",
    "        self.__relu = nn.ReLU()\n",
    "        if dropout_param != 1:\n",
    "            self.__dropout = nn.Dropout(self._dropout_param)\n",
    "        else:\n",
    "            self.__dropout = None\n",
    "\n",
    "    def forward(self, input_data):\n",
    "        out = input_data.reshape(input_data.size(0), -1)\n",
    "        out = self.__hidden_layer(out)\n",
    "        out = self.__relu(out)\n",
    "        if self.__dropout:\n",
    "            out = self.__dropout(out)\n",
    "        out = self.__out_layer(out)\n",
    "        return out\n"
   ],
   "metadata": {
    "collapsed": false
   }
  },
  {
   "cell_type": "markdown",
   "source": [
    "## Train and test functions"
   ],
   "metadata": {
    "collapsed": false
   }
  },
  {
   "cell_type": "code",
   "execution_count": null,
   "outputs": [],
   "source": [
    "def main_train_test(batch_size, param_size_param, dropout_param):\n",
    "    device = 'cuda' if torch.cuda.is_available() else 'cpu'\n",
    "    model = CustomModel(param_size_param, dropout_param).to(device)\n",
    "    optimizer = Adam(model.parameters(), lr=0.001)\n",
    "    criterion = nn.CrossEntropyLoss()\n",
    "\n",
    "    running_loss, running_training_acc = [], []\n",
    "    train_loader, test_loader = get_loaders(batch_size)\n",
    "    tot_loss = 0\n",
    "    for idx, (data, label) in enumerate(train_loader):\n",
    "        model.train()\n",
    "        data, label = data.to(device), label.to(device)\n",
    "\n",
    "        optimizer.zero_grad()\n",
    "\n",
    "        preds = model(data)\n",
    "        loss = criterion(preds, label)\n",
    "        optimizer.step()\n",
    "\n",
    "        tot_loss += loss.item()\n",
    "        running_loss.append(loss.item())\n",
    "\n",
    "        if idx == 0 and (idx + 1) % 10 == 0:\n",
    "            model.eval()\n",
    "            tot_acc = 0\n",
    "            tot_data = 0\n",
    "            with torch.no_grad():\n",
    "                for train_data, train_label in train_loader:\n",
    "                    train_data, train_label = train_data.to(device), train_label.to(device)\n",
    "                    train_preds = model(train_data)\n",
    "                    train_pred_idx = torch.argmax(train_preds, dim=1)\n",
    "                    tot_acc += torch.count_nonzero(train_pred_idx, train_label)\n",
    "                    tot_data += train_data.shape[0]\n",
    "                running_training_acc.append(tot_acc.item() / tot_data)\n",
    "            if idx == 0:\n",
    "                print('loss: {}, train acc: {}'.format(loss, running_training_acc[-1]))\n",
    "            else:\n",
    "                print('loss: {}, train acc: {}'.format(tot_loss / 10, running_training_acc[-1]))\n",
    "                tot_loss = 0\n",
    "\n",
    "    model.eval()\n",
    "    tot_acc = 0\n",
    "    tot_data = 0\n",
    "    with torch.no_grad():\n",
    "        for idx, (test_data, test_label) in test_loader:\n",
    "            test_data, test_label = test_data.to(device), test_label.to(device)\n",
    "            test_preds = model(test_data)\n",
    "            test_pred_idx = torch.argmax(test_preds, dim=1)\n",
    "            tot_acc += torch.count_nonzero(test_pred_idx, test_label)\n",
    "            tot_data += test_data.shape[0]\n",
    "        accuracy = tot_acc.item() / tot_data\n",
    "    print('epoch: {}, loss: {}, train acc: {}, test acc: {}'.format(None, running_loss[-1], running_training_acc[-1], accuracy))\n",
    "\n",
    "    return running_loss, running_training_acc, accuracy"
   ],
   "metadata": {
    "collapsed": false
   }
  },
  {
   "cell_type": "markdown",
   "source": [
    "# Task 2 - Parameter Grid"
   ],
   "metadata": {
    "collapsed": false
   }
  },
  {
   "cell_type": "markdown",
   "source": [
    "## No dropout regularization and effect of $k$"
   ],
   "metadata": {
    "collapsed": false
   }
  },
  {
   "cell_type": "markdown",
   "source": [
    "## Training accuracy for each $k$ and $p$"
   ],
   "metadata": {
    "collapsed": false
   }
  },
  {
   "cell_type": "markdown",
   "source": [
    "## Test accuracy for each $k$ and $p$"
   ],
   "metadata": {
    "collapsed": false
   }
  },
  {
   "cell_type": "markdown",
   "source": [
    "# Task 3 - Adding Noise to Labels"
   ],
   "metadata": {
    "collapsed": false
   }
  },
  {
   "cell_type": "markdown",
   "source": [
    "## No dropout regularization and effect of $k$"
   ],
   "metadata": {
    "collapsed": false
   }
  },
  {
   "cell_type": "markdown",
   "source": [
    "## Training accuracy for each $k$ and $p$"
   ],
   "metadata": {
    "collapsed": false
   }
  },
  {
   "cell_type": "markdown",
   "source": [
    "## Test accuracy for each $k$ and $p$"
   ],
   "metadata": {
    "collapsed": false
   }
  },
  {
   "cell_type": "markdown",
   "source": [
    "# Task 4 - Comments"
   ],
   "metadata": {
    "collapsed": false
   }
  }
 ],
 "metadata": {
  "kernelspec": {
   "display_name": "Python 3",
   "language": "python",
   "name": "python3"
  },
  "language_info": {
   "codemirror_mode": {
    "name": "ipython",
    "version": 2
   },
   "file_extension": ".py",
   "mimetype": "text/x-python",
   "name": "python",
   "nbconvert_exporter": "python",
   "pygments_lexer": "ipython2",
   "version": "2.7.6"
  }
 },
 "nbformat": 4,
 "nbformat_minor": 0
}
