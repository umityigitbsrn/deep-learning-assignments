{
 "cells": [
  {
   "cell_type": "code",
   "execution_count": 4,
   "metadata": {
    "collapsed": true,
    "ExecuteTime": {
     "start_time": "2023-04-26T23:42:16.863142Z",
     "end_time": "2023-04-26T23:42:16.866776Z"
    }
   },
   "outputs": [],
   "source": [
    "import torch\n",
    "from torchvision.datasets import MNIST\n",
    "import torchvision.transforms as transforms\n",
    "from torch.utils.data import DataLoader"
   ]
  },
  {
   "cell_type": "markdown",
   "source": [
    "### Task 1"
   ],
   "metadata": {
    "collapsed": false
   }
  },
  {
   "cell_type": "code",
   "execution_count": 9,
   "outputs": [
    {
     "name": "stdout",
     "output_type": "stream",
     "text": [
      "train data shape: torch.Size([60000, 784]), label shape: torch.Size([60000, 10])\n",
      "test data shape: torch.Size([10000, 784]), label shape: torch.Size([10000])\n"
     ]
    }
   ],
   "source": [
    "######TASK 1######\n",
    "# code for downloading and formatting the data\n",
    "transforms_fnc = transforms.Compose([\n",
    "    transforms.Resize((784, 1)),\n",
    "    transforms.ToTensor()\n",
    "])\n",
    "\n",
    "target_transform_fnc = transforms.Lambda(lambda y: torch.zeros(10, dtype=torch.float).scatter_(0, torch.tensor(y), 1))\n",
    "\n",
    "train_data = MNIST('./data', train=True, download=True, transform=transforms_fnc, target_transform=target_transform_fnc)\n",
    "test_data = MNIST('./data', train=False, download=True, transform=transforms_fnc)\n",
    "\n",
    "train_bs = len(train_data)\n",
    "test_bs = len(test_data)\n",
    "\n",
    "train_loader = iter(DataLoader(train_data, batch_size=train_bs, shuffle=False))\n",
    "test_loader = iter(DataLoader(test_data, batch_size=test_bs, shuffle=False))\n",
    "\n",
    "train_data_X, train_data_y = next(train_loader)\n",
    "train_data_X = train_data_X.squeeze()\n",
    "\n",
    "test_data_X, test_data_y = next(test_loader)\n",
    "test_data_X = test_data_X.squeeze()\n",
    "\n",
    "print('train data shape: {}, label shape: {}'.format(train_data_X.size(), train_data_y.size()))\n",
    "print('test data shape: {}, label shape: {}'.format(test_data_X.size(), test_data_y.size()))"
   ],
   "metadata": {
    "collapsed": false,
    "ExecuteTime": {
     "start_time": "2023-04-27T00:00:52.440902Z",
     "end_time": "2023-04-27T00:00:56.190930Z"
    }
   }
  },
  {
   "cell_type": "markdown",
   "source": [
    "### Task 2"
   ],
   "metadata": {
    "collapsed": false
   }
  },
  {
   "cell_type": "code",
   "execution_count": null,
   "outputs": [],
   "source": [
    "######TASK 2######\n",
    "# code for minibatch SGD implementation\n",
    "\n",
    "def _gradient():\n",
    "    pass\n",
    "\n",
    "def sgd_train(train_data_X_arg, train_data_y_arg, num_of_iterations, batch_size, learning_rate):\n",
    "    # init weight\n",
    "    weight = torch.empty(10, 784)\n",
    "    torch.nn.init.zeros_(weight)\n",
    "\n",
    "    uni_dist_weight = torch.ones(train_data_X_arg.size(0))\n",
    "    for iter_idx in range(num_of_iterations):\n",
    "        sampled_idx = torch.multinomial(uni_dist_weight, batch_size, replacement=True)\n",
    "\n",
    "        pass\n",
    "\n",
    "    pass"
   ],
   "metadata": {
    "collapsed": false
   }
  }
 ],
 "metadata": {
  "kernelspec": {
   "display_name": "Python 3",
   "language": "python",
   "name": "python3"
  },
  "language_info": {
   "codemirror_mode": {
    "name": "ipython",
    "version": 2
   },
   "file_extension": ".py",
   "mimetype": "text/x-python",
   "name": "python",
   "nbconvert_exporter": "python",
   "pygments_lexer": "ipython2",
   "version": "2.7.6"
  }
 },
 "nbformat": 4,
 "nbformat_minor": 0
}
